{
 "cells": [
  {
   "cell_type": "code",
   "execution_count": 1,
   "id": "ce338711",
   "metadata": {},
   "outputs": [],
   "source": [
    "import numpy as np"
   ]
  },
  {
   "cell_type": "code",
   "execution_count": 11,
   "id": "7174316b",
   "metadata": {},
   "outputs": [
    {
     "name": "stdout",
     "output_type": "stream",
     "text": [
      "Keys in npz file: ['arr_0', 'arr_1', 'arr_2']\n",
      "arr_0: (230400, 3)\n",
      "arr_1: (230400, 3)\n",
      "arr_2: (64, 3)\n"
     ]
    }
   ],
   "source": [
    "data = np.load('scene_example.npz')\n",
    "\n",
    "# 파일 내부의 모든 키 확인\n",
    "print(\"Keys in npz file:\", data.files)\n",
    "\n",
    "for key in data.files:\n",
    "    print(f\"{key}: {data[key].shape}\")"
   ]
  },
  {
   "cell_type": "code",
   "execution_count": 10,
   "id": "3b309f33",
   "metadata": {},
   "outputs": [
    {
     "data": {
      "text/plain": [
       "(230400, 3)"
      ]
     },
     "execution_count": 10,
     "metadata": {},
     "output_type": "execute_result"
    }
   ],
   "source": [
    "data['arr_0'].shape"
   ]
  },
  {
   "cell_type": "code",
   "execution_count": null,
   "id": "470b64dd",
   "metadata": {},
   "outputs": [],
   "source": []
  }
 ],
 "metadata": {
  "kernelspec": {
   "display_name": "gaprl",
   "language": "python",
   "name": "python3"
  },
  "language_info": {
   "codemirror_mode": {
    "name": "ipython",
    "version": 3
   },
   "file_extension": ".py",
   "mimetype": "text/x-python",
   "name": "python",
   "nbconvert_exporter": "python",
   "pygments_lexer": "ipython3",
   "version": "3.10.16"
  }
 },
 "nbformat": 4,
 "nbformat_minor": 5
}
